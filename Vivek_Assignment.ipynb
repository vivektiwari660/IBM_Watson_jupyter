{
 "cells": [
  {
   "cell_type": "markdown",
   "metadata": {
    "collapsed": true
   },
   "source": [
    "# My Jupyter Notebook on IBM Data Science Experience"
   ]
  },
  {
   "cell_type": "markdown",
   "metadata": {},
   "source": [
    "**Vivek Kumar**  \n",
    "Current Occupation= Software Engineer  \n",
    "Desired Occupation= Data Scientist"
   ]
  },
  {
   "cell_type": "markdown",
   "metadata": {},
   "source": [
    "Now a days Data are everywhere, just we want to find the right finding from the data.Data is now being considered as new oil which is valuable and needs to be changed into various gases, chemicals etc, should be broken down to its molecular levels, should carry out analysis upon it and derive the profitability to the new economy basis and hence I would like to pursue data science career in this sector."
   ]
  },
  {
   "cell_type": "markdown",
   "metadata": {},
   "source": [
    "### My code in next  cell should give the result of 15 multiplied by 15"
   ]
  },
  {
   "cell_type": "code",
   "execution_count": 1,
   "metadata": {
    "collapsed": false
   },
   "outputs": [
    {
     "data": {
      "text/plain": [
       "225"
      ]
     },
     "execution_count": 1,
     "metadata": {},
     "output_type": "execute_result"
    }
   ],
   "source": [
    "15*15"
   ]
  },
  {
   "cell_type": "markdown",
   "metadata": {},
   "source": [
    "**Numbered List**  \n",
    "First four months of Calender are as follows:\n",
    "1. January\n",
    "2. February\n",
    "3. March\n",
    "4. April\n",
    "\n",
    "**Bulleted List**  \n",
    "Some of the top Developing Countries in 2019 are as follows\n",
    "* Argentine  \n",
    "* Brazil  \n",
    "* Chile  \n",
    "\n",
    "**Table**\n",
    "\n",
    "| SN | Sum of two consucutivenumbers | Sum of three consecutive Numbers | Sum of four Consecutive Numbers |\n",
    "| -- | :----------------------------: | :------------------------------: | :-----------------------------: |\n",
    "| 1. | 3 | 6 | 10 |\n",
    "| 2. | 5 | 9 | 14 |\n",
    "| 3. | 7 | 12 | 18 |\n",
    "| 4. | 9 | 15 | 22 |\n",
    "\n"
   ]
  },
  {
   "cell_type": "code",
   "execution_count": null,
   "metadata": {
    "collapsed": true
   },
   "outputs": [],
   "source": []
  },
  {
   "cell_type": "code",
   "execution_count": null,
   "metadata": {
    "collapsed": true
   },
   "outputs": [],
   "source": []
  }
 ],
 "metadata": {
  "anaconda-cloud": {},
  "kernelspec": {
   "display_name": "Python [default]",
   "language": "python",
   "name": "python3"
  },
  "language_info": {
   "codemirror_mode": {
    "name": "ipython",
    "version": 3
   },
   "file_extension": ".py",
   "mimetype": "text/x-python",
   "name": "python",
   "nbconvert_exporter": "python",
   "pygments_lexer": "ipython3",
   "version": "3.5.2"
  }
 },
 "nbformat": 4,
 "nbformat_minor": 1
}
